{
 "cells": [
  {
   "cell_type": "markdown",
   "id": "f0c02ae9",
   "metadata": {},
   "source": [
    "Importar librerias requeridas"
   ]
  },
  {
   "cell_type": "code",
   "execution_count": 1,
   "id": "33b3f358",
   "metadata": {},
   "outputs": [],
   "source": [
    "import ee \n",
    "import geemap\n",
    "import json\n",
    "import os"
   ]
  },
  {
   "cell_type": "markdown",
   "id": "2a1ced59",
   "metadata": {},
   "source": [
    "Autenticación con GEE y extracción de zona de estudio"
   ]
  },
  {
   "cell_type": "code",
   "execution_count": 2,
   "id": "d2ca36b2",
   "metadata": {},
   "outputs": [
    {
     "data": {
      "text/html": [
       "\n",
       "            <style>\n",
       "                .geemap-dark {\n",
       "                    --jp-widgets-color: white;\n",
       "                    --jp-widgets-label-color: white;\n",
       "                    --jp-ui-font-color1: white;\n",
       "                    --jp-layout-color2: #454545;\n",
       "                    background-color: #383838;\n",
       "                }\n",
       "\n",
       "                .geemap-dark .jupyter-button {\n",
       "                    --jp-layout-color3: #383838;\n",
       "                }\n",
       "\n",
       "                .geemap-colab {\n",
       "                    background-color: var(--colab-primary-surface-color, white);\n",
       "                }\n",
       "\n",
       "                .geemap-colab .jupyter-button {\n",
       "                    --jp-layout-color3: var(--colab-primary-surface-color, white);\n",
       "                }\n",
       "            </style>\n",
       "            "
      ],
      "text/plain": [
       "<IPython.core.display.HTML object>"
      ]
     },
     "metadata": {},
     "output_type": "display_data"
    }
   ],
   "source": [
    "ee.Authenticate()\n",
    "ee.Initialize(project='ee-rimartinezs')\n",
    "\n",
    "with open(os.path.join(os.getcwd(), '..', 'data', 'Localidades_Bogota.geojson')) as geojson:\n",
    "    data = json.load(geojson)\n",
    "\n",
    "zona_estudio = ee.FeatureCollection(data)\n"
   ]
  },
  {
   "cell_type": "markdown",
   "id": "b9cd1bbc",
   "metadata": {},
   "source": [
    "Extracción de la colección e imagenes de GEE"
   ]
  },
  {
   "cell_type": "code",
   "execution_count": 6,
   "id": "80143c5c",
   "metadata": {},
   "outputs": [
    {
     "data": {
      "text/html": [
       "\n",
       "            <style>\n",
       "                .geemap-dark {\n",
       "                    --jp-widgets-color: white;\n",
       "                    --jp-widgets-label-color: white;\n",
       "                    --jp-ui-font-color1: white;\n",
       "                    --jp-layout-color2: #454545;\n",
       "                    background-color: #383838;\n",
       "                }\n",
       "\n",
       "                .geemap-dark .jupyter-button {\n",
       "                    --jp-layout-color3: #383838;\n",
       "                }\n",
       "\n",
       "                .geemap-colab {\n",
       "                    background-color: var(--colab-primary-surface-color, white);\n",
       "                }\n",
       "\n",
       "                .geemap-colab .jupyter-button {\n",
       "                    --jp-layout-color3: var(--colab-primary-surface-color, white);\n",
       "                }\n",
       "            </style>\n",
       "            "
      ],
      "text/plain": [
       "<IPython.core.display.HTML object>"
      ]
     },
     "metadata": {},
     "output_type": "display_data"
    },
    {
     "name": "stdout",
     "output_type": "stream",
     "text": [
      "Número de imágenes: 18\n",
      "Id imagen a trabajar LANDSAT/LC08/C02/T1_L2/LC08_008057_20230603\n"
     ]
    }
   ],
   "source": [
    "landsat8 = ee.ImageCollection('LANDSAT/LC08/C02/T1_L2') \\\n",
    "    .filterBounds(zona_estudio) \\\n",
    "    .filterDate('2023-01-01', '2023-12-31')\n",
    "\n",
    "print('Número de imágenes:', landsat8.size().getInfo())\n",
    "image = landsat8.sort('CLOUD_COVER').first()\n",
    "image_id = image.getInfo()['id']\n",
    "print(\"Id imagen a trabajar\",image_id)"
   ]
  },
  {
   "cell_type": "markdown",
   "id": "0560707b",
   "metadata": {},
   "source": [
    "Visualización y configuración de la imagen"
   ]
  },
  {
   "cell_type": "code",
   "execution_count": 4,
   "id": "3a02c7d9",
   "metadata": {},
   "outputs": [
    {
     "data": {
      "text/html": [
       "\n",
       "            <style>\n",
       "                .geemap-dark {\n",
       "                    --jp-widgets-color: white;\n",
       "                    --jp-widgets-label-color: white;\n",
       "                    --jp-ui-font-color1: white;\n",
       "                    --jp-layout-color2: #454545;\n",
       "                    background-color: #383838;\n",
       "                }\n",
       "\n",
       "                .geemap-dark .jupyter-button {\n",
       "                    --jp-layout-color3: #383838;\n",
       "                }\n",
       "\n",
       "                .geemap-colab {\n",
       "                    background-color: var(--colab-primary-surface-color, white);\n",
       "                }\n",
       "\n",
       "                .geemap-colab .jupyter-button {\n",
       "                    --jp-layout-color3: var(--colab-primary-surface-color, white);\n",
       "                }\n",
       "            </style>\n",
       "            "
      ],
      "text/plain": [
       "<IPython.core.display.HTML object>"
      ]
     },
     "metadata": {},
     "output_type": "display_data"
    },
    {
     "data": {
      "application/vnd.jupyter.widget-view+json": {
       "model_id": "e9be594b8bb64dc2887923396e6b387e",
       "version_major": 2,
       "version_minor": 0
      },
      "text/plain": [
       "Map(center=[4.314612563522231, -74.1806972663266], controls=(WidgetControl(options=['position', 'transparent_b…"
      ]
     },
     "execution_count": 4,
     "metadata": {},
     "output_type": "execute_result"
    }
   ],
   "source": [
    "style = {\n",
    "    \"color\": \"#154360\",         \n",
    "    \"fillColor\": \"#d4e6f1\", \n",
    "    \"width\": 2,    \n",
    "}\n",
    "rgb_vis = {\n",
    "    'bands': ['SR_B4', 'SR_B3', 'SR_B2'],\n",
    "    'min': 7000,\n",
    "    'max': 20000,\n",
    "    'gamma': 2.5\n",
    "}\n",
    "\n",
    "reflectance_vis = {\n",
    "    'bands': ['SR_B4', 'SR_B3', 'SR_B2'],\n",
    "    'min': 0.00,\n",
    "    'max': 0.12,\n",
    "    'gamma': 2.0\n",
    "}\n",
    "escala = 0.0000275\n",
    "intercepto = -0.2\n",
    "\n",
    "image_SR = image.select(['SR_B1', 'SR_B2', 'SR_B3', 'SR_B4', 'SR_B5', 'SR_B6', 'SR_B7']) \\\n",
    "    .multiply(escala).add(intercepto)\n",
    "\n",
    "image_clipped = image.clip(zona_estudio)\n",
    "image_clipped_SR = image_SR.clip(zona_estudio)\n",
    "# RGB 572\n",
    "false_color_572 = {\n",
    "    'bands': ['SR_B5', 'SR_B7', 'SR_B2'],\n",
    "    'min': 0.00,\n",
    "    'max': 0.35,\n",
    "    'gamma': 1.5\n",
    "}\n",
    "\n",
    "\n",
    "# RGB 564\n",
    "false_color_564 = {\n",
    "    'bands': ['SR_B5', 'SR_B6', 'SR_B4'],\n",
    "    'min': 0.00,\n",
    "    'max': 0.35,\n",
    "    'gamma': 1.5\n",
    "}\n",
    "\n",
    "\n",
    "Map = geemap.Map()\n",
    "Map = geemap.Map(height=300, width='70%') \n",
    "Map.centerObject(zona_estudio, zoom =10)\n",
    "Map.addLayer(image_clipped, rgb_vis, \"True Color\")\n",
    "Map.addLayer(image_clipped_SR,reflectance_vis,\"True color without reflectance\")\n",
    "Map.addLayer(image_clipped_SR, false_color_564, \"False Color 564\")\n",
    "Map.addLayer(image_clipped_SR, false_color_572, \"False Color 572\")\n",
    "\n",
    "Map"
   ]
  },
  {
   "cell_type": "markdown",
   "id": "d817c894",
   "metadata": {},
   "source": [
    "Guardar Mapa"
   ]
  },
  {
   "cell_type": "code",
   "execution_count": 5,
   "id": "ace19f16",
   "metadata": {},
   "outputs": [
    {
     "data": {
      "text/html": [
       "\n",
       "            <style>\n",
       "                .geemap-dark {\n",
       "                    --jp-widgets-color: white;\n",
       "                    --jp-widgets-label-color: white;\n",
       "                    --jp-ui-font-color1: white;\n",
       "                    --jp-layout-color2: #454545;\n",
       "                    background-color: #383838;\n",
       "                }\n",
       "\n",
       "                .geemap-dark .jupyter-button {\n",
       "                    --jp-layout-color3: #383838;\n",
       "                }\n",
       "\n",
       "                .geemap-colab {\n",
       "                    background-color: var(--colab-primary-surface-color, white);\n",
       "                }\n",
       "\n",
       "                .geemap-colab .jupyter-button {\n",
       "                    --jp-layout-color3: var(--colab-primary-surface-color, white);\n",
       "                }\n",
       "            </style>\n",
       "            "
      ],
      "text/plain": [
       "<IPython.core.display.HTML object>"
      ]
     },
     "metadata": {},
     "output_type": "display_data"
    }
   ],
   "source": [
    "Map.to_html(os.path.join(os.getcwd(), '..', 'HTML', 'Composiciones_Color.html'))\n"
   ]
  }
 ],
 "metadata": {
  "kernelspec": {
   "display_name": "Python 3",
   "language": "python",
   "name": "python3"
  },
  "language_info": {
   "codemirror_mode": {
    "name": "ipython",
    "version": 3
   },
   "file_extension": ".py",
   "mimetype": "text/x-python",
   "name": "python",
   "nbconvert_exporter": "python",
   "pygments_lexer": "ipython3",
   "version": "3.13.2"
  }
 },
 "nbformat": 4,
 "nbformat_minor": 5
}
