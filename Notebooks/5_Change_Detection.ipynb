{
 "cells": [
  {
   "cell_type": "markdown",
   "id": "f0c02ae9",
   "metadata": {},
   "source": [
    "Importar librerias requeridas"
   ]
  },
  {
   "cell_type": "code",
   "execution_count": 4,
   "id": "69e694a1",
   "metadata": {},
   "outputs": [
    {
     "data": {
      "text/html": [
       "\n",
       "            <style>\n",
       "                .geemap-dark {\n",
       "                    --jp-widgets-color: white;\n",
       "                    --jp-widgets-label-color: white;\n",
       "                    --jp-ui-font-color1: white;\n",
       "                    --jp-layout-color2: #454545;\n",
       "                    background-color: #383838;\n",
       "                }\n",
       "\n",
       "                .geemap-dark .jupyter-button {\n",
       "                    --jp-layout-color3: #383838;\n",
       "                }\n",
       "\n",
       "                .geemap-colab {\n",
       "                    background-color: var(--colab-primary-surface-color, white);\n",
       "                }\n",
       "\n",
       "                .geemap-colab .jupyter-button {\n",
       "                    --jp-layout-color3: var(--colab-primary-surface-color, white);\n",
       "                }\n",
       "            </style>\n",
       "            "
      ],
      "text/plain": [
       "<IPython.core.display.HTML object>"
      ]
     },
     "metadata": {},
     "output_type": "display_data"
    }
   ],
   "source": [
    "import ee\n",
    "import geemap"
   ]
  },
  {
   "cell_type": "code",
   "execution_count": 5,
   "id": "ce33a7b3",
   "metadata": {},
   "outputs": [
    {
     "data": {
      "text/html": [
       "\n",
       "            <style>\n",
       "                .geemap-dark {\n",
       "                    --jp-widgets-color: white;\n",
       "                    --jp-widgets-label-color: white;\n",
       "                    --jp-ui-font-color1: white;\n",
       "                    --jp-layout-color2: #454545;\n",
       "                    background-color: #383838;\n",
       "                }\n",
       "\n",
       "                .geemap-dark .jupyter-button {\n",
       "                    --jp-layout-color3: #383838;\n",
       "                }\n",
       "\n",
       "                .geemap-colab {\n",
       "                    background-color: var(--colab-primary-surface-color, white);\n",
       "                }\n",
       "\n",
       "                .geemap-colab .jupyter-button {\n",
       "                    --jp-layout-color3: var(--colab-primary-surface-color, white);\n",
       "                }\n",
       "            </style>\n",
       "            "
      ],
      "text/plain": [
       "<IPython.core.display.HTML object>"
      ]
     },
     "metadata": {},
     "output_type": "display_data"
    }
   ],
   "source": [
    "ee.Authenticate()\n",
    "ee.Initialize(project='ee-rimartinezs')"
   ]
  },
  {
   "cell_type": "code",
   "execution_count": 21,
   "id": "9025a3b4",
   "metadata": {},
   "outputs": [
    {
     "data": {
      "text/html": [
       "\n",
       "            <style>\n",
       "                .geemap-dark {\n",
       "                    --jp-widgets-color: white;\n",
       "                    --jp-widgets-label-color: white;\n",
       "                    --jp-ui-font-color1: white;\n",
       "                    --jp-layout-color2: #454545;\n",
       "                    background-color: #383838;\n",
       "                }\n",
       "\n",
       "                .geemap-dark .jupyter-button {\n",
       "                    --jp-layout-color3: #383838;\n",
       "                }\n",
       "\n",
       "                .geemap-colab {\n",
       "                    background-color: var(--colab-primary-surface-color, white);\n",
       "                }\n",
       "\n",
       "                .geemap-colab .jupyter-button {\n",
       "                    --jp-layout-color3: var(--colab-primary-surface-color, white);\n",
       "                }\n",
       "            </style>\n",
       "            "
      ],
      "text/plain": [
       "<IPython.core.display.HTML object>"
      ]
     },
     "metadata": {},
     "output_type": "display_data"
    },
    {
     "data": {
      "application/vnd.jupyter.widget-view+json": {
       "model_id": "f0124f00b06241ae9304d37044e1ee96",
       "version_major": 2,
       "version_minor": 0
      },
      "text/plain": [
       "Map(center=[-3.3999999999999995, -70.1], controls=(WidgetControl(options=['position', 'transparent_bg'], widge…"
      ]
     },
     "execution_count": 21,
     "metadata": {},
     "output_type": "execute_result"
    }
   ],
   "source": [
    "\n",
    "# Crear el mapa\n",
    "Map = geemap.Map()\n",
    "point = ee.Geometry.Point([-70.1,-3.4])\n",
    "Map.centerObject(point, 11)\n",
    "\n",
    "# Colección Landsat 8 con bandas seleccionadas\n",
    "landsat8 = ee.ImageCollection('LANDSAT/LC08/C02/T1_L2') \\\n",
    "    .select(\n",
    "        ['SR_B2', 'SR_B3', 'SR_B4', 'SR_B5', 'SR_B6', 'SR_B7'],\n",
    "        ['blue', 'green', 'red', 'nir', 'swir1', 'swir2']\n",
    "    )\n",
    "\n",
    "# Filtrar imágenes por fecha y nubes\n",
    "pre_image = landsat8 \\\n",
    "    .filterBounds(point) \\\n",
    "    .filterDate('2015-01-01', '2015-06-30') \\\n",
    "    .sort('CLOUD_COVER') \\\n",
    "    .first()\n",
    "\n",
    "post_image = landsat8 \\\n",
    "    .filterBounds(point) \\\n",
    "    .filterDate('2020-06-01', '2020-06-30') \\\n",
    "    .sort('CLOUD_COVER') \\\n",
    "    .first()\n",
    "\n",
    "# Visualización del cambio NBR\n",
    "palette = [\n",
    "    '011959', '0E365E', '1D5561', '3E6C55', '687B3E',\n",
    "    '9B882E', 'D59448', 'F9A380', 'FDB7BD', 'FACCFA'\n",
    "]\n",
    "\n",
    "# Calcular NBR\n",
    "nbr_pre = pre_image.normalizedDifference(['nir', 'swir2']).rename('nbr_pre')\n",
    "nbr_post = post_image.normalizedDifference(['nir', 'swir2']).rename('nbr_post')\n",
    "\n",
    "diff = nbr_post.subtract(nbr_pre).rename('change')\n",
    "\n",
    "vis_params = {\n",
    "    'min': -0.2,\n",
    "    'max': 0.2,\n",
    "    'palette': palette\n",
    "}\n",
    "Map.addLayer(diff, vis_params, 'NBR Change')\n",
    "\n",
    "# Clasificación según umbrales\n",
    "threshold_gain = 0.10\n",
    "threshold_loss = -0.10\n",
    "\n",
    "diff_classified = ee.Image(0) \\\n",
    "    .where(diff.lte(threshold_loss), 2) \\\n",
    "    .where(diff.gte(threshold_gain), 1)\n",
    "\n",
    "# Visualización de la clasificación\n",
    "change_vis = {\n",
    "    'min': 0,\n",
    "    'max': 2,\n",
    "    'palette': ['fcffc8', '2659eb', 'fa1373']\n",
    "}\n",
    "Map.addLayer(diff_classified.selfMask(), change_vis, 'Change Classified')\n",
    "\n",
    "# Mostrar mapa\n",
    "Map"
   ]
  }
 ],
 "metadata": {
  "kernelspec": {
   "display_name": "Python 3",
   "language": "python",
   "name": "python3"
  },
  "language_info": {
   "codemirror_mode": {
    "name": "ipython",
    "version": 3
   },
   "file_extension": ".py",
   "mimetype": "text/x-python",
   "name": "python",
   "nbconvert_exporter": "python",
   "pygments_lexer": "ipython3",
   "version": "3.13.2"
  }
 },
 "nbformat": 4,
 "nbformat_minor": 5
}
