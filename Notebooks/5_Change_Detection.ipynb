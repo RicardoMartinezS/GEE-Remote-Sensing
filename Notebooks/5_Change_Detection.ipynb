{
 "cells": [
  {
   "cell_type": "markdown",
   "id": "f0c02ae9",
   "metadata": {},
   "source": [
    "Importar librerias requeridas"
   ]
  },
  {
   "cell_type": "code",
   "execution_count": null,
   "id": "69e694a1",
   "metadata": {},
   "outputs": [],
   "source": [
    "import ee\n",
    "import geemap"
   ]
  },
  {
   "cell_type": "code",
   "execution_count": null,
   "id": "ce33a7b3",
   "metadata": {},
   "outputs": [],
   "source": [
    "ee.Authenticate()\n",
    "ee.Initialize(project='ee-rimartinezs')"
   ]
  },
  {
   "cell_type": "code",
   "execution_count": 1,
   "id": "33b3f358",
   "metadata": {},
   "outputs": [
    {
     "data": {
      "application/vnd.jupyter.widget-view+json": {
       "model_id": "3bec9ac8b9ef485fac45c79119953c3f",
       "version_major": 2,
       "version_minor": 0
      },
      "text/plain": [
       "Map(center=[42.96, -123.64], controls=(WidgetControl(options=['position', 'transparent_bg'], widget=SearchData…"
      ]
     },
     "execution_count": 1,
     "metadata": {},
     "output_type": "execute_result"
    }
   ],
   "source": [
    "\n",
    "# Crear el mapa\n",
    "Map = geemap.Map()\n",
    "point = ee.Geometry.Point([-123.64, 42.96])\n",
    "Map.centerObject(point, 11)\n",
    "\n",
    "# Colección Landsat 8 con bandas seleccionadas\n",
    "landsat8 = ee.ImageCollection('LANDSAT/LC08/C02/T1_L2') \\\n",
    "    .select(\n",
    "        ['SR_B2', 'SR_B3', 'SR_B4', 'SR_B5', 'SR_B6', 'SR_B7'],\n",
    "        ['blue', 'green', 'red', 'nir', 'swir1', 'swir2']\n",
    "    )\n",
    "\n",
    "# Imagen antes del evento (junio 2013)\n",
    "pre_image = landsat8 \\\n",
    "    .filterBounds(point) \\\n",
    "    .filterDate('2013-06-01', '2013-06-30') \\\n",
    "    .sort('CLOUD_COVER') \\\n",
    "    .first()\n",
    "\n",
    "# Imagen después del evento (junio 2020)\n",
    "post_image = landsat8 \\\n",
    "    .filterBounds(point) \\\n",
    "    .filterDate('2020-06-01', '2020-06-30') \\\n",
    "    .sort('CLOUD_COVER') \\\n",
    "    .first()\n",
    "\n",
    "# Calcular NBR\n",
    "nbr_pre = pre_image.normalizedDifference(['nir', 'swir2']).rename('nbr_pre')\n",
    "nbr_post = post_image.normalizedDifference(['nir', 'swir2']).rename('nbr_post')\n",
    "\n",
    "# Cambio entre fechas\n",
    "diff = nbr_post.subtract(nbr_pre).rename('change')\n",
    "\n",
    "# Visualización del cambio NBR\n",
    "palette = [\n",
    "    '011959', '0E365E', '1D5561', '3E6C55', '687B3E',\n",
    "    '9B882E', 'D59448', 'F9A380', 'FDB7BD', 'FACCFA'\n",
    "]\n",
    "vis_params = {\n",
    "    'min': -0.2,\n",
    "    'max': 0.2,\n",
    "    'palette': palette\n",
    "}\n",
    "Map.addLayer(diff, vis_params, 'NBR Change')\n",
    "\n",
    "# Clasificación según umbrales\n",
    "threshold_gain = 0.10\n",
    "threshold_loss = -0.10\n",
    "\n",
    "diff_classified = ee.Image(0) \\\n",
    "    .where(diff.lte(threshold_loss), 2) \\\n",
    "    .where(diff.gte(threshold_gain), 1)\n",
    "\n",
    "# Visualización de la clasificación\n",
    "change_vis = {\n",
    "    'min': 0,\n",
    "    'max': 2,\n",
    "    'palette': ['fcffc8', '2659eb', 'fa1373']\n",
    "}\n",
    "Map.addLayer(diff_classified.selfMask(), change_vis, 'Change Classified')\n",
    "\n",
    "# Mostrar mapa\n",
    "Map\n"
   ]
  },
  {
   "cell_type": "markdown",
   "id": "9bd906a4",
   "metadata": {},
   "source": [
    "Autenticación con GEE y extracción de zona de estudio"
   ]
  }
 ],
 "metadata": {
  "kernelspec": {
   "display_name": "Python 3",
   "language": "python",
   "name": "python3"
  },
  "language_info": {
   "codemirror_mode": {
    "name": "ipython",
    "version": 3
   },
   "file_extension": ".py",
   "mimetype": "text/x-python",
   "name": "python",
   "nbconvert_exporter": "python",
   "pygments_lexer": "ipython3",
   "version": "3.13.2"
  }
 },
 "nbformat": 4,
 "nbformat_minor": 5
}
