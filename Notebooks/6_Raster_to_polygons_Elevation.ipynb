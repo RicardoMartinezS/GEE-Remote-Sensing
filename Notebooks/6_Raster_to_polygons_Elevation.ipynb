{
 "cells": [
  {
   "cell_type": "markdown",
   "id": "f0c02ae9",
   "metadata": {},
   "source": [
    "Importar librerias requeridas"
   ]
  },
  {
   "cell_type": "code",
   "execution_count": 1,
   "id": "33b3f358",
   "metadata": {},
   "outputs": [],
   "source": [
    "import ee \n",
    "import geemap\n",
    "import json\n",
    "import os"
   ]
  },
  {
   "cell_type": "markdown",
   "id": "2a1ced59",
   "metadata": {},
   "source": [
    "Autenticación con GEE y extracción de zona de estudio"
   ]
  },
  {
   "cell_type": "code",
   "execution_count": 10,
   "id": "d2ca36b2",
   "metadata": {},
   "outputs": [
    {
     "data": {
      "text/html": [
       "\n",
       "            <style>\n",
       "                .geemap-dark {\n",
       "                    --jp-widgets-color: white;\n",
       "                    --jp-widgets-label-color: white;\n",
       "                    --jp-ui-font-color1: white;\n",
       "                    --jp-layout-color2: #454545;\n",
       "                    background-color: #383838;\n",
       "                }\n",
       "\n",
       "                .geemap-dark .jupyter-button {\n",
       "                    --jp-layout-color3: #383838;\n",
       "                }\n",
       "\n",
       "                .geemap-colab {\n",
       "                    background-color: var(--colab-primary-surface-color, white);\n",
       "                }\n",
       "\n",
       "                .geemap-colab .jupyter-button {\n",
       "                    --jp-layout-color3: var(--colab-primary-surface-color, white);\n",
       "                }\n",
       "            </style>\n",
       "            "
      ],
      "text/plain": [
       "<IPython.core.display.HTML object>"
      ]
     },
     "metadata": {},
     "output_type": "display_data"
    }
   ],
   "source": [
    "ee.Authenticate()\n",
    "ee.Initialize(project='ee-rimartinezs')\n",
    "\n",
    "with open(os.path.join(os.getcwd(), '..', 'data', 'geoBoundaries-COL-ADM0.geojson')) as geojson:\n",
    "    data = json.load(geojson)\n",
    "\n",
    "colombia = ee.FeatureCollection(data)\n",
    "\n",
    "# Cargar el raster de elevación y el vector de Colombia\n",
    "elevation = ee.Image('USGS/GMTED2010_FULL').select('mea').rename('elevation')\n"
   ]
  },
  {
   "cell_type": "markdown",
   "id": "87401d6b",
   "metadata": {},
   "source": [
    "Extracción Poligonos de elevación"
   ]
  },
  {
   "cell_type": "code",
   "execution_count": null,
   "id": "5fc46b40",
   "metadata": {},
   "outputs": [],
   "source": [
    "\n",
    "#Elegir intervalo de elvación\n",
    "\n",
    "zones = elevation.divide(750).floor().toInt().rename('zone')\n",
    "\n",
    "# Enmascara valores menores o iguales 0\n",
    "zones = zones.updateMask(elevation.gt(0))\n",
    "\n",
    "# Recorte Colombia\n",
    "zones_clipped = zones.clip(colombia)\n",
    "\n",
    "# Convertir raster a polígonos\n",
    "elevation_vector = zones_clipped.reduceToVectors(\n",
    "    geometry=colombia,\n",
    "    crs=elevation.projection(),\n",
    "    scale=1000,  \n",
    "    geometryType='polygon',\n",
    "    eightConnected=False,\n",
    "    labelProperty='zone',\n",
    "    bestEffort=False,\n",
    "    maxPixels=1e13,\n",
    "    tileScale=3\n",
    ")"
   ]
  },
  {
   "cell_type": "markdown",
   "id": "763ce2e2",
   "metadata": {},
   "source": [
    "Mapa"
   ]
  },
  {
   "cell_type": "code",
   "execution_count": null,
   "id": "73a2b4d4",
   "metadata": {},
   "outputs": [
    {
     "data": {
      "text/html": [
       "\n",
       "            <style>\n",
       "                .geemap-dark {\n",
       "                    --jp-widgets-color: white;\n",
       "                    --jp-widgets-label-color: white;\n",
       "                    --jp-ui-font-color1: white;\n",
       "                    --jp-layout-color2: #454545;\n",
       "                    background-color: #383838;\n",
       "                }\n",
       "\n",
       "                .geemap-dark .jupyter-button {\n",
       "                    --jp-layout-color3: #383838;\n",
       "                }\n",
       "\n",
       "                .geemap-colab {\n",
       "                    background-color: var(--colab-primary-surface-color, white);\n",
       "                }\n",
       "\n",
       "                .geemap-colab .jupyter-button {\n",
       "                    --jp-layout-color3: var(--colab-primary-surface-color, white);\n",
       "                }\n",
       "            </style>\n",
       "            "
      ],
      "text/plain": [
       "<IPython.core.display.HTML object>"
      ]
     },
     "metadata": {},
     "output_type": "display_data"
    },
    {
     "data": {
      "application/vnd.jupyter.widget-view+json": {
       "model_id": "e376801bb4344bc795195dfc8b4281d3",
       "version_major": 2,
       "version_minor": 0
      },
      "text/plain": [
       "Map(center=[4, -74], controls=(WidgetControl(options=['position', 'transparent_bg'], widget=SearchDataGUI(chil…"
      ]
     },
     "execution_count": 18,
     "metadata": {},
     "output_type": "execute_result"
    }
   ],
   "source": [
    "\n",
    "Map = geemap.Map(center=[4, -74], zoom=6)\n",
    "Map.addLayer(elevation.clip(colombia), {'min': 0, 'max': 4000}, 'Elevation')\n",
    "Map.addLayer(zones_clipped, {\n",
    "    'min': 0,\n",
    "    'max': 10, \n",
    "    'palette': ['white', 'yellow', 'orange', 'green', 'blue', 'purple', 'brown'],\n",
    "    'opacity': 0.6\n",
    "}, 'Elevation Zones (800)')\n",
    "Map.addLayer(elevation_vector, {}, 'Elevation Zones - Vector')\n",
    "Map.addLayer(colombia, {}, 'Colombia Border')\n",
    "Map"
   ]
  }
 ],
 "metadata": {
  "kernelspec": {
   "display_name": "Python 3",
   "language": "python",
   "name": "python3"
  },
  "language_info": {
   "codemirror_mode": {
    "name": "ipython",
    "version": 3
   },
   "file_extension": ".py",
   "mimetype": "text/x-python",
   "name": "python",
   "nbconvert_exporter": "python",
   "pygments_lexer": "ipython3",
   "version": "3.13.2"
  }
 },
 "nbformat": 4,
 "nbformat_minor": 5
}
