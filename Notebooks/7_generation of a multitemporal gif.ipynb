{
 "cells": [
  {
   "cell_type": "markdown",
   "id": "f0c02ae9",
   "metadata": {},
   "source": [
    "Importar librerias requeridas"
   ]
  },
  {
   "cell_type": "code",
   "execution_count": 12,
   "id": "33b3f358",
   "metadata": {},
   "outputs": [
    {
     "data": {
      "text/html": [
       "\n",
       "            <style>\n",
       "                .geemap-dark {\n",
       "                    --jp-widgets-color: white;\n",
       "                    --jp-widgets-label-color: white;\n",
       "                    --jp-ui-font-color1: white;\n",
       "                    --jp-layout-color2: #454545;\n",
       "                    background-color: #383838;\n",
       "                }\n",
       "\n",
       "                .geemap-dark .jupyter-button {\n",
       "                    --jp-layout-color3: #383838;\n",
       "                }\n",
       "\n",
       "                .geemap-colab {\n",
       "                    background-color: var(--colab-primary-surface-color, white);\n",
       "                }\n",
       "\n",
       "                .geemap-colab .jupyter-button {\n",
       "                    --jp-layout-color3: var(--colab-primary-surface-color, white);\n",
       "                }\n",
       "            </style>\n",
       "            "
      ],
      "text/plain": [
       "<IPython.core.display.HTML object>"
      ]
     },
     "metadata": {},
     "output_type": "display_data"
    }
   ],
   "source": [
    "import ee \n",
    "import geemap\n",
    "import json\n",
    "import os"
   ]
  },
  {
   "cell_type": "markdown",
   "id": "2a1ced59",
   "metadata": {},
   "source": [
    "Autenticación con GEE y extracción de zona de estudio"
   ]
  },
  {
   "cell_type": "code",
   "execution_count": null,
   "id": "d2ca36b2",
   "metadata": {},
   "outputs": [
    {
     "data": {
      "text/html": [
       "\n",
       "            <style>\n",
       "                .geemap-dark {\n",
       "                    --jp-widgets-color: white;\n",
       "                    --jp-widgets-label-color: white;\n",
       "                    --jp-ui-font-color1: white;\n",
       "                    --jp-layout-color2: #454545;\n",
       "                    background-color: #383838;\n",
       "                }\n",
       "\n",
       "                .geemap-dark .jupyter-button {\n",
       "                    --jp-layout-color3: #383838;\n",
       "                }\n",
       "\n",
       "                .geemap-colab {\n",
       "                    background-color: var(--colab-primary-surface-color, white);\n",
       "                }\n",
       "\n",
       "                .geemap-colab .jupyter-button {\n",
       "                    --jp-layout-color3: var(--colab-primary-surface-color, white);\n",
       "                }\n",
       "            </style>\n",
       "            "
      ],
      "text/plain": [
       "<IPython.core.display.HTML object>"
      ]
     },
     "metadata": {},
     "output_type": "display_data"
    }
   ],
   "source": [
    "ee.Authenticate()\n",
    "ee.Initialize(project='ee-rimartinezs')"
   ]
  },
  {
   "cell_type": "markdown",
   "id": "87401d6b",
   "metadata": {},
   "source": [
    "Creación del GIF"
   ]
  },
  {
   "cell_type": "code",
   "execution_count": null,
   "id": "700d9db6",
   "metadata": {},
   "outputs": [
    {
     "data": {
      "text/html": [
       "\n",
       "            <style>\n",
       "                .geemap-dark {\n",
       "                    --jp-widgets-color: white;\n",
       "                    --jp-widgets-label-color: white;\n",
       "                    --jp-ui-font-color1: white;\n",
       "                    --jp-layout-color2: #454545;\n",
       "                    background-color: #383838;\n",
       "                }\n",
       "\n",
       "                .geemap-dark .jupyter-button {\n",
       "                    --jp-layout-color3: #383838;\n",
       "                }\n",
       "\n",
       "                .geemap-colab {\n",
       "                    background-color: var(--colab-primary-surface-color, white);\n",
       "                }\n",
       "\n",
       "                .geemap-colab .jupyter-button {\n",
       "                    --jp-layout-color3: var(--colab-primary-surface-color, white);\n",
       "                }\n",
       "            </style>\n",
       "            "
      ],
      "text/plain": [
       "<IPython.core.display.HTML object>"
      ]
     },
     "metadata": {},
     "output_type": "display_data"
    }
   ],
   "source": [
    "geometry = ee.Geometry.Rectangle([-72.25, 11.35, -72.20, 11.40])\n",
    "# Filtrar la colección de Sentinel-2\n",
    "collection = (ee.ImageCollection('COPERNICUS/S2_SR_HARMONIZED')\n",
    "    .filterBounds(geometry)\n",
    "    .filterDate('2020-01-01', '2020-12-31')\n",
    "    .filter(ee.Filter.lt('CLOUDY_PIXEL_PERCENTAGE', 10))\n",
    "    .map(lambda image: image.clip(geometry)))\n"
   ]
  },
  {
   "cell_type": "code",
   "execution_count": null,
   "id": "acfda87b",
   "metadata": {},
   "outputs": [
    {
     "data": {
      "text/html": [
       "\n",
       "            <style>\n",
       "                .geemap-dark {\n",
       "                    --jp-widgets-color: white;\n",
       "                    --jp-widgets-label-color: white;\n",
       "                    --jp-ui-font-color1: white;\n",
       "                    --jp-layout-color2: #454545;\n",
       "                    background-color: #383838;\n",
       "                }\n",
       "\n",
       "                .geemap-dark .jupyter-button {\n",
       "                    --jp-layout-color3: #383838;\n",
       "                }\n",
       "\n",
       "                .geemap-colab {\n",
       "                    background-color: var(--colab-primary-surface-color, white);\n",
       "                }\n",
       "\n",
       "                .geemap-colab .jupyter-button {\n",
       "                    --jp-layout-color3: var(--colab-primary-surface-color, white);\n",
       "                }\n",
       "            </style>\n",
       "            "
      ],
      "text/plain": [
       "<IPython.core.display.HTML object>"
      ]
     },
     "metadata": {},
     "output_type": "display_data"
    },
    {
     "name": "stdout",
     "output_type": "stream",
     "text": [
      "Generating URL...\n",
      "Downloading GIF image from https://earthengine.googleapis.com/v1/projects/ee-rimartinezs/videoThumbnails/35dd98790cbc63030e0f78e7689d899d-ace8492df94368e658381b8ea6d6ee80:getPixels\n",
      "Please wait ...\n",
      "The GIF image has been saved to: c:\\Users\\ricar\\OneDrive\\Maestría en Geomática\\Percepción Remota\\GitHub\\GEE-Remote-Sensing\\Images\\Maicao.gif\n",
      "El archivo GIF se ha guardado en: c:\\Users\\ricar\\OneDrive\\Maestría en Geomática\\Percepción Remota\\GitHub\\GEE-Remote-Sensing\\Notebooks\\..\\Images\\Maicao.gif\n"
     ]
    },
    {
     "data": {
      "application/vnd.jupyter.widget-view+json": {
       "model_id": "286461945bcb49f590a8268fec84dbbe",
       "version_major": 2,
       "version_minor": 0
      },
      "text/plain": [
       "Output()"
      ]
     },
     "metadata": {},
     "output_type": "display_data"
    }
   ],
   "source": [
    "\n",
    "def create_monthly_composites(start_year, end_year):\n",
    "    composites = []\n",
    "    for year in range(start_year, end_year + 1):\n",
    "        for month in range(1, 13):\n",
    "            start_date = ee.Date.fromYMD(year, month, 1)\n",
    "            end_date = start_date.advance(1, 'month')\n",
    "            filtered = (ee.ImageCollection('COPERNICUS/S2_SR_HARMONIZED')\n",
    "                        .filterBounds(geometry)\n",
    "                        .filterDate(start_date, end_date)\n",
    "                        .filter(ee.Filter.lt('CLOUDY_PIXEL_PERCENTAGE', 10)))\n",
    "            composite = filtered.median().clip(geometry)\n",
    "            composites.append(composite)\n",
    "    return ee.ImageCollection(composites)\n",
    "\n",
    "# Crear la colección de compuestos mensuales para 2020\n",
    "monthly_collection = create_monthly_composites(2020, 2020)\n",
    "\n",
    "\n",
    "# Visualizar las imágenes en color natural\n",
    "def visualize_image(image):\n",
    "    return image.visualize(bands=['B4', 'B3', 'B2'], min=0, max=3000)\n",
    "\n",
    "rgb_collection = monthly_collection.map(visualize_image)\n",
    "\n",
    "# Parámetros para la animación\n",
    "video_args = {\n",
    "    'dimensions': 720,\n",
    "    'region': geometry,\n",
    "    'framesPerSecond': 2,\n",
    "    'crs': 'EPSG:4326'\n",
    "}\n",
    "\n",
    "\n",
    "output_path = os.path.join(os.getcwd(), '..', 'Images', 'Maicao.gif')\n",
    "\n",
    "# Descargar la animación como GIF\n",
    "geemap.download_ee_video(rgb_collection, video_args, output_path)\n",
    "\n",
    "\n"
   ]
  },
  {
   "cell_type": "code",
   "execution_count": null,
   "id": "ad6a2e7b",
   "metadata": {},
   "outputs": [],
   "source": []
  }
 ],
 "metadata": {
  "kernelspec": {
   "display_name": "Python 3",
   "language": "python",
   "name": "python3"
  },
  "language_info": {
   "codemirror_mode": {
    "name": "ipython",
    "version": 3
   },
   "file_extension": ".py",
   "mimetype": "text/x-python",
   "name": "python",
   "nbconvert_exporter": "python",
   "pygments_lexer": "ipython3",
   "version": "3.13.2"
  }
 },
 "nbformat": 4,
 "nbformat_minor": 5
}
