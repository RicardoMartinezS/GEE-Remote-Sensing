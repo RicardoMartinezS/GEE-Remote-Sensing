{
 "cells": [
  {
   "cell_type": "markdown",
   "id": "f0c02ae9",
   "metadata": {},
   "source": [
    "Extracción de datos GEE"
   ]
  },
  {
   "cell_type": "code",
   "execution_count": null,
   "id": "33b3f358",
   "metadata": {},
   "outputs": [],
   "source": [
    "import ee "
   ]
  },
  {
   "cell_type": "code",
   "execution_count": null,
   "id": "df2156df",
   "metadata": {},
   "outputs": [
    {
     "data": {
      "text/plain": [
       "True"
      ]
     },
     "execution_count": 10,
     "metadata": {},
     "output_type": "execute_result"
    }
   ],
   "source": [
    "ee.Authenticate()\n",
    "ee.Initialize(project='ee-rimartinezs')"
   ]
  },
  {
   "cell_type": "code",
   "execution_count": 20,
   "id": "e954d36e",
   "metadata": {},
   "outputs": [],
   "source": [
    "image =  ee.Image('LANDSAT/LC08/C02/T1_L2/LC08_008057_20241011')\n"
   ]
  },
  {
   "cell_type": "code",
   "execution_count": null,
   "id": "9f229167",
   "metadata": {},
   "outputs": [],
   "source": [
    "image.getInfo() "
   ]
  }
 ],
 "metadata": {
  "kernelspec": {
   "display_name": "Python 3",
   "language": "python",
   "name": "python3"
  },
  "language_info": {
   "codemirror_mode": {
    "name": "ipython",
    "version": 3
   },
   "file_extension": ".py",
   "mimetype": "text/x-python",
   "name": "python",
   "nbconvert_exporter": "python",
   "pygments_lexer": "ipython3",
   "version": "3.13.2"
  }
 },
 "nbformat": 4,
 "nbformat_minor": 5
}
